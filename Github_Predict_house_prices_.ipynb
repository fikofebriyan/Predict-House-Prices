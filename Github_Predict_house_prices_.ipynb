{
  "cells": [
    {
      "cell_type": "markdown",
      "source": [
        "### 5 hyperparameters that I consider optimizing for better performance\n",
        "\n",
        "**Learning Rate** (lr): The learning rate determines the step size at each iteration during the optimization process. It controls how quickly the model learns from the data. I experimented with different values, such as 0.001, 0.01, or 0.1, to find the optimal learning rate for my specific problem.\n",
        "\n",
        "**Weight Decay** (weight_decay): Weight decay is a regularization technique that adds a penalty term to the loss function to prevent overfitting. It controls the amount of L2 regularization applied to the model's weights. I tried values like 0.001, 0.01, or 0.1 to find the optimal weight decay for my model.\n",
        "\n",
        "**Number of Epochs** (num_epochs): The number of epochs determines how many times the entire training dataset is passed through the model during the training. It affects the convergence and generalization of the model. Increase the number of epochs if the model is underfitting, but I have to be cautious of overfitting.\n",
        "\n",
        "**Batch Size** (batch_size): The batch size defines the number of samples processed by the model in each iteration. It affects the speed and stability of training. Larger batch sizes can speed up training, but they may require more memory. Smaller batch sizes can provide more noise in the parameter updates but may converge more slowly. Hence, I tried 16, 32, 64, or 128 to find the optimal batch size for my model.\n",
        "\n"
      ],
      "metadata": {
        "id": "4gWkGUoWviBn"
      }
    },
    {
      "cell_type": "markdown",
      "source": [
        "\n",
        "\n",
        "## **1. Accessing and Reading the Kaggle Data Sets**\n",
        "\n",
        "The competition data is separated into training and test sets. Each record includes the property values of the house and attributes such as street type, year of construction, roof type, basement condition.\n",
        "\n",
        "The data includes multiple data types, including integers (year of construction), discrete labels (roof type), floating point numbers, etc.; Some data is missing and is thus labeled 'na'.\n",
        "\n",
        "The price of each house, namely the label, is only included in the training data set (it is a competition after all). The 'Data' tab on the competition tab has links to download the data.\n",
        "\n",
        "We will read and process the data using `pandas`, an [efficient data analysis toolkit](http://pandas.pydata.org/pandas-docs/stable/). It is already part of colab."
      ],
      "metadata": {
        "id": "1niqZY8axpDP"
      }
    },
    {
      "cell_type": "markdown",
      "source": [
        "##Design for the Assignment\n",
        "\n",
        "\n",
        "**Step 1:**\n",
        "\n",
        "Access both the data sets from Kaggle\n",
        "\n",
        "**Step 2:**\n",
        "\n",
        "Ensure that the data is loaded and verified\n",
        "\n",
        "**Step 3:**\n",
        "\n",
        "Read the data. This will print out the number of rows and columns\n",
        "\n",
        "**Step 4:**\n",
        "\n",
        "Combines the selected features from the train_data and test_data dataframes into a single dataframe called all_features, excluding the first column in each dataframe. It is commonly used when merging feature data from different sources for machine learning tasks.\n",
        "\n",
        "**Step 5:**\n",
        "\n",
        "The first line of code normalizes the numerical features in the all_features dataframe by subtracting the mean and dividing by the standard deviation, ensuring that the features have zero mean and unit variance.\n",
        "\n",
        "**Step 6:**\n",
        "\n",
        "The second line of code replaces any missing values in the all_features dataframe with zeros, effectively filling in the missing data points with a default value of 0.\n",
        "\n",
        "**Step 7:**\n",
        "\n",
        "The first line of code performs one-hot encoding on the categorical features in the all_features dataframe, creating binary dummy variables for each unique category, including a column for missing values (NaNs).\n",
        "\n",
        "**Step 8:**\n",
        "\n",
        "The second line of code returns the shape of the all_features dataframe, which represents the number of rows and columns after the one-hot encoding process.\n",
        "\n",
        "**Step 9:**\n",
        "\n",
        "The first line of code assigns the number of training samples to the variable n_train, representing the number of rows in the train_data dataframe.\n",
        "\n",
        "**Step 10:**\n",
        "\n",
        "The three lines of code convert the subsets of all_features and train_data into PyTorch tensors. The train_features tensor contains the training features, the test_features tensor contains the test features, and the train_labels tensor contains the training labels. The conversion is performed to ensure compatibility with PyTorch models and operations.\n",
        "\n",
        "**Step 11:**\n",
        "\n",
        "creates a scatter plot with data points representing the relationship between the ground living area and sale price.\n",
        "\n",
        "**Step 12:**\n",
        "\n",
        "Use MLP to connect with ReLU functions\n",
        "\n",
        "**Step 13:**\n",
        "\n",
        "Calculate mean squared Error\n",
        "\n",
        "**Step 14:**\n",
        "\n",
        "creates a DataLoader from the given data arrays, with the option to specify the batch size and whether it's for training or not."
      ],
      "metadata": {
        "id": "jFBKy1WyiTyK"
      }
    },
    {
      "cell_type": "markdown",
      "metadata": {
        "id": "7mKK4Rd8vhPS"
      },
      "source": [
        "\n",
        "\n",
        "\n",
        "\n",
        "In this homework, you will build a model for predicting house prices. For this, you will use real house sale data from a [Kaggle competition](https://www.kaggle.com/c/house-prices-advanced-regression-techniques).\n",
        "\n",
        "My task is to:\n",
        "1. Develop a better model to reduce the prediction error. You can find some hints on the last section.\n",
        "2. Submit the results to Kaggle. Then insert here the screenshot of the result.\n",
        "\n",
        "It is important that you start as earlier as possible. Tuning hyper-parameters takes time, and Kaggle limits the number of submissions per day.\n"
      ]
    },
    {
      "cell_type": "markdown",
      "source": [
        "**Step 1:**\n",
        "Access both the data sets from Kaggle\n"
      ],
      "metadata": {
        "id": "ED9P71KZjnQp"
      }
    },
    {
      "cell_type": "code",
      "execution_count": null,
      "metadata": {
        "ExecuteTime": {
          "end_time": "2019-02-12T19:52:59.411749Z",
          "start_time": "2019-02-12T19:52:28.081528Z"
        },
        "attributes": {
          "classes": [],
          "id": "",
          "n": "3"
        },
        "scrolled": true,
        "id": "GRQwEMHBvhPU",
        "colab": {
          "base_uri": "https://localhost:8080/"
        },
        "outputId": "2ccefc51-e7bb-469c-c692-8f393ef6a187"
      },
      "outputs": [
        {
          "output_type": "stream",
          "name": "stdout",
          "text": [
            "Running in Google Colab\n",
            "Downloading files from GitHub repo ...\n",
            "Finished!\n"
          ]
        }
      ],
      "source": [
        "# If pandas is not installed, please uncomment the following line:\n",
        "# !pip install pandas\n",
        "\n",
        "%matplotlib inline\n",
        "import os\n",
        "import importlib\n",
        "\n",
        "import time\n",
        "import math\n",
        "import random\n",
        "import numpy as np\n",
        "import torch\n",
        "import pandas as pd\n",
        "\n",
        "\n",
        "\n",
        "import numpy as np\n",
        "import pandas as pd\n",
        "import matplotlib.pyplot as plt\n",
        "\n",
        "import torch\n",
        "import torchvision\n",
        "from torch import nn\n",
        "from torch.utils import data\n",
        "from torchvision import transforms\n",
        "\n",
        "def install_package(package):\n",
        "    try:\n",
        "        importlib.import_module(package)\n",
        "    except ImportError:\n",
        "        import sys\n",
        "        !{sys.executable} -m pip install {package}\n",
        "\n",
        "def is_running_in_colab():\n",
        "    try:\n",
        "        from google.colab import _ipython as ip\n",
        "        return True\n",
        "    except ImportError:\n",
        "        return False\n",
        "\n",
        "try:\n",
        "  if is_running_in_colab():\n",
        "    print(\"Running in Google Colab\")\n",
        "  else:\n",
        "    print(\"Running in Jupyter or VSCode\")\n",
        "\n",
        "  import requests\n",
        "  url = 'https://raw.githubusercontent.com/joccing/ICT303-assignment1/master/config.py'\n",
        "  r = requests.get(url, allow_redirects=True)\n",
        "  open('config.py', 'wb').write(r.content)\n",
        "\n",
        "except ModuleNotFoundError:\n",
        "  pass\n",
        "\n",
        "from config import *\n",
        "config_data()\n",
        "\n"
      ]
    },
    {
      "cell_type": "markdown",
      "source": [
        "**Step 2:**\n",
        "Ensure that the data is loaded and verified\n",
        "\n"
      ],
      "metadata": {
        "id": "-T7LZnIdjqn3"
      }
    },
    {
      "cell_type": "code",
      "source": [
        "try:\n",
        "    import pandas as pd\n",
        "except ImportError:\n",
        "    # If pandas is not installed, install it\n",
        "    install_package('pandas')\n",
        "    import pandas as pd\n",
        "\n",
        "train_data = pd.read_csv('data/train.csv')\n",
        "test_data  = pd.read_csv('data/test.csv')\n",
        "assert train_data.shape == (1460,81)\n",
        "assert test_data.shape == (1459, 80)\n",
        "print('Loaded and verified data!')"
      ],
      "metadata": {
        "colab": {
          "base_uri": "https://localhost:8080/"
        },
        "id": "WpH4SRQORC3U",
        "outputId": "2df056b9-6a72-4840-cb55-89c9e3ed4260"
      },
      "execution_count": null,
      "outputs": [
        {
          "output_type": "stream",
          "name": "stdout",
          "text": [
            "Loaded and verified data!\n"
          ]
        }
      ]
    },
    {
      "cell_type": "markdown",
      "metadata": {
        "id": "NEef4084vhPV"
      },
      "source": [
        "Download the train and test dataset from [Kaggle competition](https://www.kaggle.com/c/house-prices-advanced-regression-techniques) (in the Data tab). You will need to sign it to access the data. These are two Comma Separated Values (CSV) files containing training and test data respectively we use Pandas.\n",
        "\n",
        "Save them into your google drive. To read them into your code, use the following command (from panda)"
      ]
    },
    {
      "cell_type": "markdown",
      "source": [
        "**Step 3:**\n",
        "Read the data. This will print out the number of rows and columns\n"
      ],
      "metadata": {
        "id": "S-wpjiTcjt8M"
      }
    },
    {
      "cell_type": "code",
      "execution_count": null,
      "metadata": {
        "ExecuteTime": {
          "end_time": "2019-02-12T19:52:59.907368Z",
          "start_time": "2019-02-12T19:52:59.418639Z"
        },
        "attributes": {
          "classes": [],
          "id": "",
          "n": "14"
        },
        "id": "xoPKaTR1vhPW",
        "colab": {
          "base_uri": "https://localhost:8080/",
          "height": 488
        },
        "outputId": "aef55aba-55f4-4e9a-923b-7a32c4c4d73e"
      },
      "outputs": [
        {
          "output_type": "execute_result",
          "data": {
            "text/plain": [
              "        Id  MSSubClass MSZoning  LotFrontage  LotArea Street Alley LotShape  \\\n",
              "0     1461          20       RH         80.0    11622   Pave   NaN      Reg   \n",
              "1     1462          20       RL         81.0    14267   Pave   NaN      IR1   \n",
              "2     1463          60       RL         74.0    13830   Pave   NaN      IR1   \n",
              "3     1464          60       RL         78.0     9978   Pave   NaN      IR1   \n",
              "4     1465         120       RL         43.0     5005   Pave   NaN      IR1   \n",
              "...    ...         ...      ...          ...      ...    ...   ...      ...   \n",
              "1454  2915         160       RM         21.0     1936   Pave   NaN      Reg   \n",
              "1455  2916         160       RM         21.0     1894   Pave   NaN      Reg   \n",
              "1456  2917          20       RL        160.0    20000   Pave   NaN      Reg   \n",
              "1457  2918          85       RL         62.0    10441   Pave   NaN      Reg   \n",
              "1458  2919          60       RL         74.0     9627   Pave   NaN      Reg   \n",
              "\n",
              "     LandContour Utilities  ... ScreenPorch PoolArea PoolQC  Fence  \\\n",
              "0            Lvl    AllPub  ...         120        0    NaN  MnPrv   \n",
              "1            Lvl    AllPub  ...           0        0    NaN    NaN   \n",
              "2            Lvl    AllPub  ...           0        0    NaN  MnPrv   \n",
              "3            Lvl    AllPub  ...           0        0    NaN    NaN   \n",
              "4            HLS    AllPub  ...         144        0    NaN    NaN   \n",
              "...          ...       ...  ...         ...      ...    ...    ...   \n",
              "1454         Lvl    AllPub  ...           0        0    NaN    NaN   \n",
              "1455         Lvl    AllPub  ...           0        0    NaN    NaN   \n",
              "1456         Lvl    AllPub  ...           0        0    NaN    NaN   \n",
              "1457         Lvl    AllPub  ...           0        0    NaN  MnPrv   \n",
              "1458         Lvl    AllPub  ...           0        0    NaN    NaN   \n",
              "\n",
              "     MiscFeature MiscVal MoSold  YrSold  SaleType  SaleCondition  \n",
              "0            NaN       0      6    2010        WD         Normal  \n",
              "1           Gar2   12500      6    2010        WD         Normal  \n",
              "2            NaN       0      3    2010        WD         Normal  \n",
              "3            NaN       0      6    2010        WD         Normal  \n",
              "4            NaN       0      1    2010        WD         Normal  \n",
              "...          ...     ...    ...     ...       ...            ...  \n",
              "1454         NaN       0      6    2006        WD         Normal  \n",
              "1455         NaN       0      4    2006        WD        Abnorml  \n",
              "1456         NaN       0      9    2006        WD        Abnorml  \n",
              "1457        Shed     700      7    2006        WD         Normal  \n",
              "1458         NaN       0     11    2006        WD         Normal  \n",
              "\n",
              "[1459 rows x 80 columns]"
            ],
            "text/html": [
              "\n",
              "  <div id=\"df-3143f2f2-2c93-4ba7-9afd-a9d99e5a35c8\">\n",
              "    <div class=\"colab-df-container\">\n",
              "      <div>\n",
              "<style scoped>\n",
              "    .dataframe tbody tr th:only-of-type {\n",
              "        vertical-align: middle;\n",
              "    }\n",
              "\n",
              "    .dataframe tbody tr th {\n",
              "        vertical-align: top;\n",
              "    }\n",
              "\n",
              "    .dataframe thead th {\n",
              "        text-align: right;\n",
              "    }\n",
              "</style>\n",
              "<table border=\"1\" class=\"dataframe\">\n",
              "  <thead>\n",
              "    <tr style=\"text-align: right;\">\n",
              "      <th></th>\n",
              "      <th>Id</th>\n",
              "      <th>MSSubClass</th>\n",
              "      <th>MSZoning</th>\n",
              "      <th>LotFrontage</th>\n",
              "      <th>LotArea</th>\n",
              "      <th>Street</th>\n",
              "      <th>Alley</th>\n",
              "      <th>LotShape</th>\n",
              "      <th>LandContour</th>\n",
              "      <th>Utilities</th>\n",
              "      <th>...</th>\n",
              "      <th>ScreenPorch</th>\n",
              "      <th>PoolArea</th>\n",
              "      <th>PoolQC</th>\n",
              "      <th>Fence</th>\n",
              "      <th>MiscFeature</th>\n",
              "      <th>MiscVal</th>\n",
              "      <th>MoSold</th>\n",
              "      <th>YrSold</th>\n",
              "      <th>SaleType</th>\n",
              "      <th>SaleCondition</th>\n",
              "    </tr>\n",
              "  </thead>\n",
              "  <tbody>\n",
              "    <tr>\n",
              "      <th>0</th>\n",
              "      <td>1461</td>\n",
              "      <td>20</td>\n",
              "      <td>RH</td>\n",
              "      <td>80.0</td>\n",
              "      <td>11622</td>\n",
              "      <td>Pave</td>\n",
              "      <td>NaN</td>\n",
              "      <td>Reg</td>\n",
              "      <td>Lvl</td>\n",
              "      <td>AllPub</td>\n",
              "      <td>...</td>\n",
              "      <td>120</td>\n",
              "      <td>0</td>\n",
              "      <td>NaN</td>\n",
              "      <td>MnPrv</td>\n",
              "      <td>NaN</td>\n",
              "      <td>0</td>\n",
              "      <td>6</td>\n",
              "      <td>2010</td>\n",
              "      <td>WD</td>\n",
              "      <td>Normal</td>\n",
              "    </tr>\n",
              "    <tr>\n",
              "      <th>1</th>\n",
              "      <td>1462</td>\n",
              "      <td>20</td>\n",
              "      <td>RL</td>\n",
              "      <td>81.0</td>\n",
              "      <td>14267</td>\n",
              "      <td>Pave</td>\n",
              "      <td>NaN</td>\n",
              "      <td>IR1</td>\n",
              "      <td>Lvl</td>\n",
              "      <td>AllPub</td>\n",
              "      <td>...</td>\n",
              "      <td>0</td>\n",
              "      <td>0</td>\n",
              "      <td>NaN</td>\n",
              "      <td>NaN</td>\n",
              "      <td>Gar2</td>\n",
              "      <td>12500</td>\n",
              "      <td>6</td>\n",
              "      <td>2010</td>\n",
              "      <td>WD</td>\n",
              "      <td>Normal</td>\n",
              "    </tr>\n",
              "    <tr>\n",
              "      <th>2</th>\n",
              "      <td>1463</td>\n",
              "      <td>60</td>\n",
              "      <td>RL</td>\n",
              "      <td>74.0</td>\n",
              "      <td>13830</td>\n",
              "      <td>Pave</td>\n",
              "      <td>NaN</td>\n",
              "      <td>IR1</td>\n",
              "      <td>Lvl</td>\n",
              "      <td>AllPub</td>\n",
              "      <td>...</td>\n",
              "      <td>0</td>\n",
              "      <td>0</td>\n",
              "      <td>NaN</td>\n",
              "      <td>MnPrv</td>\n",
              "      <td>NaN</td>\n",
              "      <td>0</td>\n",
              "      <td>3</td>\n",
              "      <td>2010</td>\n",
              "      <td>WD</td>\n",
              "      <td>Normal</td>\n",
              "    </tr>\n",
              "    <tr>\n",
              "      <th>3</th>\n",
              "      <td>1464</td>\n",
              "      <td>60</td>\n",
              "      <td>RL</td>\n",
              "      <td>78.0</td>\n",
              "      <td>9978</td>\n",
              "      <td>Pave</td>\n",
              "      <td>NaN</td>\n",
              "      <td>IR1</td>\n",
              "      <td>Lvl</td>\n",
              "      <td>AllPub</td>\n",
              "      <td>...</td>\n",
              "      <td>0</td>\n",
              "      <td>0</td>\n",
              "      <td>NaN</td>\n",
              "      <td>NaN</td>\n",
              "      <td>NaN</td>\n",
              "      <td>0</td>\n",
              "      <td>6</td>\n",
              "      <td>2010</td>\n",
              "      <td>WD</td>\n",
              "      <td>Normal</td>\n",
              "    </tr>\n",
              "    <tr>\n",
              "      <th>4</th>\n",
              "      <td>1465</td>\n",
              "      <td>120</td>\n",
              "      <td>RL</td>\n",
              "      <td>43.0</td>\n",
              "      <td>5005</td>\n",
              "      <td>Pave</td>\n",
              "      <td>NaN</td>\n",
              "      <td>IR1</td>\n",
              "      <td>HLS</td>\n",
              "      <td>AllPub</td>\n",
              "      <td>...</td>\n",
              "      <td>144</td>\n",
              "      <td>0</td>\n",
              "      <td>NaN</td>\n",
              "      <td>NaN</td>\n",
              "      <td>NaN</td>\n",
              "      <td>0</td>\n",
              "      <td>1</td>\n",
              "      <td>2010</td>\n",
              "      <td>WD</td>\n",
              "      <td>Normal</td>\n",
              "    </tr>\n",
              "    <tr>\n",
              "      <th>...</th>\n",
              "      <td>...</td>\n",
              "      <td>...</td>\n",
              "      <td>...</td>\n",
              "      <td>...</td>\n",
              "      <td>...</td>\n",
              "      <td>...</td>\n",
              "      <td>...</td>\n",
              "      <td>...</td>\n",
              "      <td>...</td>\n",
              "      <td>...</td>\n",
              "      <td>...</td>\n",
              "      <td>...</td>\n",
              "      <td>...</td>\n",
              "      <td>...</td>\n",
              "      <td>...</td>\n",
              "      <td>...</td>\n",
              "      <td>...</td>\n",
              "      <td>...</td>\n",
              "      <td>...</td>\n",
              "      <td>...</td>\n",
              "      <td>...</td>\n",
              "    </tr>\n",
              "    <tr>\n",
              "      <th>1454</th>\n",
              "      <td>2915</td>\n",
              "      <td>160</td>\n",
              "      <td>RM</td>\n",
              "      <td>21.0</td>\n",
              "      <td>1936</td>\n",
              "      <td>Pave</td>\n",
              "      <td>NaN</td>\n",
              "      <td>Reg</td>\n",
              "      <td>Lvl</td>\n",
              "      <td>AllPub</td>\n",
              "      <td>...</td>\n",
              "      <td>0</td>\n",
              "      <td>0</td>\n",
              "      <td>NaN</td>\n",
              "      <td>NaN</td>\n",
              "      <td>NaN</td>\n",
              "      <td>0</td>\n",
              "      <td>6</td>\n",
              "      <td>2006</td>\n",
              "      <td>WD</td>\n",
              "      <td>Normal</td>\n",
              "    </tr>\n",
              "    <tr>\n",
              "      <th>1455</th>\n",
              "      <td>2916</td>\n",
              "      <td>160</td>\n",
              "      <td>RM</td>\n",
              "      <td>21.0</td>\n",
              "      <td>1894</td>\n",
              "      <td>Pave</td>\n",
              "      <td>NaN</td>\n",
              "      <td>Reg</td>\n",
              "      <td>Lvl</td>\n",
              "      <td>AllPub</td>\n",
              "      <td>...</td>\n",
              "      <td>0</td>\n",
              "      <td>0</td>\n",
              "      <td>NaN</td>\n",
              "      <td>NaN</td>\n",
              "      <td>NaN</td>\n",
              "      <td>0</td>\n",
              "      <td>4</td>\n",
              "      <td>2006</td>\n",
              "      <td>WD</td>\n",
              "      <td>Abnorml</td>\n",
              "    </tr>\n",
              "    <tr>\n",
              "      <th>1456</th>\n",
              "      <td>2917</td>\n",
              "      <td>20</td>\n",
              "      <td>RL</td>\n",
              "      <td>160.0</td>\n",
              "      <td>20000</td>\n",
              "      <td>Pave</td>\n",
              "      <td>NaN</td>\n",
              "      <td>Reg</td>\n",
              "      <td>Lvl</td>\n",
              "      <td>AllPub</td>\n",
              "      <td>...</td>\n",
              "      <td>0</td>\n",
              "      <td>0</td>\n",
              "      <td>NaN</td>\n",
              "      <td>NaN</td>\n",
              "      <td>NaN</td>\n",
              "      <td>0</td>\n",
              "      <td>9</td>\n",
              "      <td>2006</td>\n",
              "      <td>WD</td>\n",
              "      <td>Abnorml</td>\n",
              "    </tr>\n",
              "    <tr>\n",
              "      <th>1457</th>\n",
              "      <td>2918</td>\n",
              "      <td>85</td>\n",
              "      <td>RL</td>\n",
              "      <td>62.0</td>\n",
              "      <td>10441</td>\n",
              "      <td>Pave</td>\n",
              "      <td>NaN</td>\n",
              "      <td>Reg</td>\n",
              "      <td>Lvl</td>\n",
              "      <td>AllPub</td>\n",
              "      <td>...</td>\n",
              "      <td>0</td>\n",
              "      <td>0</td>\n",
              "      <td>NaN</td>\n",
              "      <td>MnPrv</td>\n",
              "      <td>Shed</td>\n",
              "      <td>700</td>\n",
              "      <td>7</td>\n",
              "      <td>2006</td>\n",
              "      <td>WD</td>\n",
              "      <td>Normal</td>\n",
              "    </tr>\n",
              "    <tr>\n",
              "      <th>1458</th>\n",
              "      <td>2919</td>\n",
              "      <td>60</td>\n",
              "      <td>RL</td>\n",
              "      <td>74.0</td>\n",
              "      <td>9627</td>\n",
              "      <td>Pave</td>\n",
              "      <td>NaN</td>\n",
              "      <td>Reg</td>\n",
              "      <td>Lvl</td>\n",
              "      <td>AllPub</td>\n",
              "      <td>...</td>\n",
              "      <td>0</td>\n",
              "      <td>0</td>\n",
              "      <td>NaN</td>\n",
              "      <td>NaN</td>\n",
              "      <td>NaN</td>\n",
              "      <td>0</td>\n",
              "      <td>11</td>\n",
              "      <td>2006</td>\n",
              "      <td>WD</td>\n",
              "      <td>Normal</td>\n",
              "    </tr>\n",
              "  </tbody>\n",
              "</table>\n",
              "<p>1459 rows × 80 columns</p>\n",
              "</div>\n",
              "      <button class=\"colab-df-convert\" onclick=\"convertToInteractive('df-3143f2f2-2c93-4ba7-9afd-a9d99e5a35c8')\"\n",
              "              title=\"Convert this dataframe to an interactive table.\"\n",
              "              style=\"display:none;\">\n",
              "        \n",
              "  <svg xmlns=\"http://www.w3.org/2000/svg\" height=\"24px\"viewBox=\"0 0 24 24\"\n",
              "       width=\"24px\">\n",
              "    <path d=\"M0 0h24v24H0V0z\" fill=\"none\"/>\n",
              "    <path d=\"M18.56 5.44l.94 2.06.94-2.06 2.06-.94-2.06-.94-.94-2.06-.94 2.06-2.06.94zm-11 1L8.5 8.5l.94-2.06 2.06-.94-2.06-.94L8.5 2.5l-.94 2.06-2.06.94zm10 10l.94 2.06.94-2.06 2.06-.94-2.06-.94-.94-2.06-.94 2.06-2.06.94z\"/><path d=\"M17.41 7.96l-1.37-1.37c-.4-.4-.92-.59-1.43-.59-.52 0-1.04.2-1.43.59L10.3 9.45l-7.72 7.72c-.78.78-.78 2.05 0 2.83L4 21.41c.39.39.9.59 1.41.59.51 0 1.02-.2 1.41-.59l7.78-7.78 2.81-2.81c.8-.78.8-2.07 0-2.86zM5.41 20L4 18.59l7.72-7.72 1.47 1.35L5.41 20z\"/>\n",
              "  </svg>\n",
              "      </button>\n",
              "      \n",
              "  <style>\n",
              "    .colab-df-container {\n",
              "      display:flex;\n",
              "      flex-wrap:wrap;\n",
              "      gap: 12px;\n",
              "    }\n",
              "\n",
              "    .colab-df-convert {\n",
              "      background-color: #E8F0FE;\n",
              "      border: none;\n",
              "      border-radius: 50%;\n",
              "      cursor: pointer;\n",
              "      display: none;\n",
              "      fill: #1967D2;\n",
              "      height: 32px;\n",
              "      padding: 0 0 0 0;\n",
              "      width: 32px;\n",
              "    }\n",
              "\n",
              "    .colab-df-convert:hover {\n",
              "      background-color: #E2EBFA;\n",
              "      box-shadow: 0px 1px 2px rgba(60, 64, 67, 0.3), 0px 1px 3px 1px rgba(60, 64, 67, 0.15);\n",
              "      fill: #174EA6;\n",
              "    }\n",
              "\n",
              "    [theme=dark] .colab-df-convert {\n",
              "      background-color: #3B4455;\n",
              "      fill: #D2E3FC;\n",
              "    }\n",
              "\n",
              "    [theme=dark] .colab-df-convert:hover {\n",
              "      background-color: #434B5C;\n",
              "      box-shadow: 0px 1px 3px 1px rgba(0, 0, 0, 0.15);\n",
              "      filter: drop-shadow(0px 1px 2px rgba(0, 0, 0, 0.3));\n",
              "      fill: #FFFFFF;\n",
              "    }\n",
              "  </style>\n",
              "\n",
              "      <script>\n",
              "        const buttonEl =\n",
              "          document.querySelector('#df-3143f2f2-2c93-4ba7-9afd-a9d99e5a35c8 button.colab-df-convert');\n",
              "        buttonEl.style.display =\n",
              "          google.colab.kernel.accessAllowed ? 'block' : 'none';\n",
              "\n",
              "        async function convertToInteractive(key) {\n",
              "          const element = document.querySelector('#df-3143f2f2-2c93-4ba7-9afd-a9d99e5a35c8');\n",
              "          const dataTable =\n",
              "            await google.colab.kernel.invokeFunction('convertToInteractive',\n",
              "                                                     [key], {});\n",
              "          if (!dataTable) return;\n",
              "\n",
              "          const docLinkHtml = 'Like what you see? Visit the ' +\n",
              "            '<a target=\"_blank\" href=https://colab.research.google.com/notebooks/data_table.ipynb>data table notebook</a>'\n",
              "            + ' to learn more about interactive tables.';\n",
              "          element.innerHTML = '';\n",
              "          dataTable['output_type'] = 'display_data';\n",
              "          await google.colab.output.renderOutput(dataTable, element);\n",
              "          const docLink = document.createElement('div');\n",
              "          docLink.innerHTML = docLinkHtml;\n",
              "          element.appendChild(docLink);\n",
              "        }\n",
              "      </script>\n",
              "    </div>\n",
              "  </div>\n",
              "  "
            ]
          },
          "metadata": {},
          "execution_count": 3
        }
      ],
      "source": [
        "train_data   # change the name and the path as needed\n",
        "test_data"
      ]
    },
    {
      "cell_type": "markdown",
      "metadata": {
        "id": "BjAF_MkDvhPW"
      },
      "source": [
        "The training data set includes 1,460 examples, 80 features, and 1 label. The test data contains 1,459 examples and 80 features. You can check the content of the files by opening them in Excel or by using the following two commands"
      ]
    },
    {
      "cell_type": "code",
      "execution_count": null,
      "metadata": {
        "ExecuteTime": {
          "end_time": "2019-02-12T19:52:59.938906Z",
          "start_time": "2019-02-12T19:52:59.914530Z"
        },
        "attributes": {
          "classes": [],
          "id": "",
          "n": "11"
        },
        "id": "xZqqYl11vhPW",
        "colab": {
          "base_uri": "https://localhost:8080/"
        },
        "outputId": "e8d3363d-8b5c-4f58-bc96-49d996119d99"
      },
      "outputs": [
        {
          "output_type": "stream",
          "name": "stdout",
          "text": [
            "(1460, 81)\n",
            "(1459, 80)\n"
          ]
        }
      ],
      "source": [
        "print(train_data.shape)\n",
        "print(test_data.shape)"
      ]
    },
    {
      "cell_type": "markdown",
      "metadata": {
        "id": "te8qM3wFvhPX"
      },
      "source": [
        "Let’s take a look at the first 4 and last 2 features as well as the label (SalePrice) from the first 4 examples:"
      ]
    },
    {
      "cell_type": "code",
      "execution_count": null,
      "metadata": {
        "ExecuteTime": {
          "end_time": "2019-02-12T19:53:00.162068Z",
          "start_time": "2019-02-12T19:52:59.951154Z"
        },
        "attributes": {
          "classes": [],
          "id": "",
          "n": "28"
        },
        "id": "0qmO3cWrvhPd"
      },
      "outputs": [],
      "source": [
        "#train_data.iloc[0:4, [0, 1, 2, 3, -3, -2, -1]]"
      ]
    },
    {
      "cell_type": "markdown",
      "metadata": {
        "id": "Rytz3kDFvhPd"
      },
      "source": [
        "We can see that in each example, the first feature is the ID. This helps the model identify each training example. While this is convenient, it doesn't carry any information for prediction purposes. Hence we remove it from the dataset before feeding the data into the network."
      ]
    },
    {
      "cell_type": "markdown",
      "source": [
        "**Step 4:**\n",
        "Combines the selected features from the train_data and test_data dataframes into a single dataframe called all_features, excluding the first column in each dataframe. It is commonly used when merging feature data from different sources for machine learning tasks."
      ],
      "metadata": {
        "id": "pOpqzLMEjyIm"
      }
    },
    {
      "cell_type": "code",
      "execution_count": null,
      "metadata": {
        "ExecuteTime": {
          "end_time": "2019-02-12T19:53:00.379027Z",
          "start_time": "2019-02-12T19:53:00.166246Z"
        },
        "attributes": {
          "classes": [],
          "id": "",
          "n": "30"
        },
        "id": "Fd1k2_UAvhPe"
      },
      "outputs": [],
      "source": [
        "all_features = pd.concat((train_data.iloc[:, 1:-1], test_data.iloc[:, 1:]))"
      ]
    },
    {
      "cell_type": "markdown",
      "metadata": {
        "id": "2TCTGRndvhPe"
      },
      "source": [
        "## **2. Data Preprocessing**\n",
        "\n",
        "As stated above, we have a wide variety of datatypes. Before we feed it into a  network we need to perform some amount of processing.\n",
        "\n",
        "Let's start with the **numerical features**. We begin by replacing missing values with the mean. This is a reasonable strategy if features are missing at random. To adjust them to a common scale we rescale them to zero mean and unit variance. This is accomplished as follows:\n",
        "\n",
        "$$x \\leftarrow \\frac{x - \\mu}{\\sigma}.$$\n",
        "\n",
        "This process is called **normalization** or **standardisation**. The reason for normalizing the data is that it brings all features to the same order of magnitude. After all, we do not know *a priori* which features are likely to be relevant. Hence it makes sense to treat them equally.\n",
        "\n",
        "Write below the code that does the normalization for each numerical features:"
      ]
    },
    {
      "cell_type": "markdown",
      "source": [
        "**Step 5:**\n",
        "The first line of code normalizes the numerical features in the all_features dataframe by subtracting the mean and dividing by the standard deviation, ensuring that the features have zero mean and unit variance.\n",
        "\n",
        "**Step 6:**\n",
        "The second line of code replaces any missing values in the all_features dataframe with zeros, effectively filling in the missing data points with a default value of 0."
      ],
      "metadata": {
        "id": "O3NPwHY0j8PV"
      }
    },
    {
      "cell_type": "code",
      "execution_count": null,
      "metadata": {
        "ExecuteTime": {
          "end_time": "2019-02-12T19:53:01.109173Z",
          "start_time": "2019-02-12T19:53:00.389736Z"
        },
        "attributes": {
          "classes": [],
          "id": "",
          "n": "6"
        },
        "id": "QE65QBNzvhPf"
      },
      "outputs": [],
      "source": [
        "# Normalize the numerical features\n",
        "numeric_features = all_features.dtypes[all_features.dtypes != 'object'].index\n",
        "all_features[numeric_features] = all_features[numeric_features].apply(lambda x: (x - x.mean()) / (x.std()))\n",
        "\n",
        "# Set missing values to 0\n",
        "all_features = all_features.fillna(0)\n"
      ]
    },
    {
      "cell_type": "markdown",
      "metadata": {
        "id": "lazSNir9vhPf"
      },
      "source": [
        "Next we deal with the **discrete values**. This includes variables such as 'MSZoning'. We replace them by a one-hot encoding in the same manner as how we transformed multiclass classification data into a vector of $0$ and $1$. For instance, 'MSZoning' assumes the values 'RL' and 'RM'. They map into vectors $(1,0)$ and $(0,1)$ respectively. Pandas does this automatically for us."
      ]
    },
    {
      "cell_type": "markdown",
      "source": [
        "**Step 7:**\n",
        "The first line of code performs one-hot encoding on the categorical features in the all_features dataframe, creating binary dummy variables for each unique category, including a column for missing values (NaNs).\n",
        "\n",
        "**Step 8:**\n",
        "The second line of code returns the shape of the all_features dataframe, which represents the number of rows and columns after the one-hot encoding process.\n"
      ],
      "metadata": {
        "id": "MCsK-TWukcgl"
      }
    },
    {
      "cell_type": "code",
      "execution_count": null,
      "metadata": {
        "ExecuteTime": {
          "end_time": "2019-02-12T19:53:02.149003Z",
          "start_time": "2019-02-12T19:53:01.124831Z"
        },
        "attributes": {
          "classes": [],
          "id": "",
          "n": "7"
        },
        "id": "ih40N6ikvhPf",
        "colab": {
          "base_uri": "https://localhost:8080/"
        },
        "outputId": "5d394771-94f3-4889-b3b2-a741bea109b3"
      },
      "outputs": [
        {
          "output_type": "execute_result",
          "data": {
            "text/plain": [
              "(2919, 354)"
            ]
          },
          "metadata": {},
          "execution_count": 7
        }
      ],
      "source": [
        "# Dummy_na=True refers to a missing value being a legal eigenvalue, and creates an indicative feature for it.\n",
        "all_features = pd.get_dummies(all_features, dummy_na=True)\n",
        "all_features.shape"
      ]
    },
    {
      "cell_type": "markdown",
      "metadata": {
        "id": "n8WR4gEbvhPg"
      },
      "source": [
        "You can see that this conversion increases the number of features from 79 to 331.\n",
        "\n",
        "Finally, via the `values` attribute we can extract the NumPy format from the Pandas dataframe and prepare them for training."
      ]
    },
    {
      "cell_type": "markdown",
      "source": [
        "**Step 9:**\n",
        "The first line of code assigns the number of training samples to the variable n_train, representing the number of rows in the train_data dataframe.\n",
        "\n",
        "**Step 10:**\n",
        "The  three lines of code convert the subsets of all_features and train_data into PyTorch tensors. The train_features tensor contains the training features, the test_features tensor contains the test features, and the train_labels tensor contains the training labels. The conversion is performed to ensure compatibility with PyTorch models and operations.\n"
      ],
      "metadata": {
        "id": "dR-yIKJTkv05"
      }
    },
    {
      "cell_type": "code",
      "execution_count": null,
      "metadata": {
        "ExecuteTime": {
          "end_time": "2019-02-12T19:53:02.295819Z",
          "start_time": "2019-02-12T19:53:02.153731Z"
        },
        "attributes": {
          "classes": [],
          "id": "",
          "n": "9"
        },
        "id": "TJmbnw2cvhPg"
      },
      "outputs": [],
      "source": [
        "n_train = train_data.shape[0]\n",
        "\n",
        "# the train features are in all_features[:n_train].values - need to convert them into a pytorch tensor??\n",
        "train_features = torch.tensor(all_features[:n_train].values, dtype=torch.float32)\n",
        "\n",
        "# the test features are in all_features[n_train:].values - need to convert them into a pytorch tensor??\n",
        "test_features = torch.tensor(all_features[n_train:].values, dtype=torch.float32)\n",
        "\n",
        "# the train labels are in train_data.SalePrice.values - need to convert them into a pytorch tensor??\n",
        "train_labels = torch.tensor(train_data.SalePrice.values.reshape(-1, 1), dtype=torch.float32)"
      ]
    },
    {
      "cell_type": "markdown",
      "source": [
        "**Create a scatter plot to visually examine the presence of any raw outliers in the data**\n",
        "\n",
        "**Step 11:**creates a scatter plot with data points representing the relationship between the ground living area and sale price. The resulting plot helps visualize the distribution of data points and any potential patterns or outliers in the relationship between the variables."
      ],
      "metadata": {
        "id": "hbXGFQ-GXtXI"
      }
    },
    {
      "cell_type": "code",
      "source": [
        "fig, ax = plt.subplots(figsize=(10, 6))\n",
        "ax.grid()\n",
        "ax.scatter(train_data[\"GrLivArea\"], train_data[\"SalePrice\"], c=\"#3f72af\", zorder=3, alpha=0.9)\n",
        "ax.axvline(4500, c=\"#112d4e\", ls=\"--\", zorder=2)\n",
        "ax.set_xlabel(\"Ground living area (sq. ft)\", labelpad=10)\n",
        "ax.set_ylabel(\"Sale price ($)\", labelpad=10)\n",
        "plt.show()\n"
      ],
      "metadata": {
        "colab": {
          "base_uri": "https://localhost:8080/",
          "height": 520
        },
        "id": "aRVlGbObXqzi",
        "outputId": "c1ea3752-ae91-4e0e-cc53-4a0c5b8987b2"
      },
      "execution_count": null,
      "outputs": [
        {
          "output_type": "display_data",
          "data": {
            "text/plain": [
              "<Figure size 1000x600 with 1 Axes>"
            ],
            "image/png": "[encoded data removed]"
          },
          "metadata": {}
        }
      ]
    },
    {
      "cell_type": "markdown",
      "metadata": {
        "id": "yqWxMu7qvhPg"
      },
      "source": [
        "## **3. Training**\n",
        "\n",
        "### **3.1. Loss function**\n",
        "To get started, train an MLP model with squared loss. This will obviously not lead to a competition winning submission but it provides a sanity check to see whether there's meaningful information in the data. It also amounts to a minimum baseline of how well we should expect any 'fancy' model to work.\n",
        "\n",
        "To this end, use the codes you developed in Lab 4. However, we may need to test with a better loss function to achieve better results. In fact, house prices, like shares, are relative. That is, we probably care more about the relative error $\\frac{y - \\hat{y}}{y}$ than about the absolute error. For instance, getting a house price wrong by USD 100,000 is terrible in rural Ohio, where the value of the house is USD 125,000. On the other hand, if we err by this amount in Los Altos Hills, California, we can be proud of the accuracy of our model (the median house price there exceeds 4 million).\n",
        "\n",
        "One way to address this problem is to measure the discrepancy between the predicted price and the correct price in the logarithm of the price estimates. In fact, this is also the error that is being used to measure the quality in the Kaggle competition. After all, a small value $\\delta$ of $\\log y - \\log \\hat{y}$ translates into $e^{-\\delta} \\leq \\frac{\\hat{y}}{y} \\leq e^\\delta$. This leads to the following loss function:\n",
        "\n",
        "$$L = \\sqrt{\\frac{1}{n}\\sum_{i=1}^n\\left(\\log y_i -\\log \\hat{y}_i\\right)^2}.$$"
      ]
    },
    {
      "cell_type": "markdown",
      "metadata": {
        "id": "6s0f8gDVvhPh"
      },
      "source": [
        "### **3.2. k-Fold Cross-Validation**\n",
        "\n",
        "To get good performance, you usually need to select the network architecture. This includes the type of network, the number of layers, the number of hidden neurons in each layer, the learning rate, the batch size, etc. These are called **hyper paramters**.\n",
        "\n",
        "However, it is difficult to know which configuration of the hyperparameters above would achieve the best performance. Thus in practice, we need to try multiple configurations (i.e., choices of the hyperparameters), evaluate the performance of each configuration, and pick the one that gives the best performance.\n",
        "\n",
        "To assess the performance of a given configuratation, you need to take the training set and randomly divide it into two subsets:\n",
        "- one subset will be called training set (usually 80% of the entire data set),\n",
        "- the second one will be called validation set (usually 20% of the entire data set.\n",
        "\n",
        "Then, train your model on the training set and test it on the validation set. Repeat this process $k$ times and average the performance over all the run. This will then be the performance of this configuration. This process is called **$k-$fold cross validation**. $k$ is usually chosen to be $5$ or $10$.\n",
        "\n",
        "Run this procedure for each of the configurations you defined and pick the one that gives the best performance.\n",
        "\n",
        "To use it, first we need a function that returns the i-th fold of the data in a k-fold cross-validation procedure. It proceeds by slicing out the i-th segment as validation data and returning the rest as training data.\n",
        "\n",
        "Note - this is not the most efficient way of handling data and we would use something much smarter if the amount of data was considerably larger. But this would obscure the function of the code considerably and we thus omit it."
      ]
    },
    {
      "cell_type": "markdown",
      "source": [
        "**This code uses MLP nodel from PyTorch library**\n",
        "\n",
        "**Step 12:**\n",
        "Use MLP to connect with ReLU functions\n",
        "\n",
        "- The __init__ method consist of several fully connected layers ReLU activation functions. The inputsize is the total number of features which is 354 and outputsize is 1 because we want 1 outcome. The learning rate is set to 0.01 for default.\n",
        "\n",
        "- The loss method uses the mean squared error loss.\n",
        "\n",
        "- The forward method implements the forward pass of the MLP. It takes an input tensor X and passes it through the sequential layers defined in the self.layers module, returning the output tensor.\n",
        "\n",
        "- The get_net method creates an instance of the MLP model with input and output size. It create an MLP object without calling the constructor.\n",
        "\n",
        "- Finally, an instance of the MLP model is created by calling MLP.get_net(n_inputs, n_outputs), and the resulting model is assigned to the variable net.\n"
      ],
      "metadata": {
        "id": "cgIdBcoBTR0k"
      }
    },
    {
      "cell_type": "code",
      "source": [
        "\n",
        "import torch\n",
        "import torch.nn as nn\n",
        "\n",
        "class MLP(nn.Module):\n",
        "  def __init__(self, inputSize=354, outputSize=1, lr=0.001):\n",
        "    super().__init__()\n",
        "    self.layers = nn.Sequential(\n",
        "        nn.Linear(inputSize, 128),\n",
        "        nn.ReLU(),\n",
        "        nn.Linear(128, 64),\n",
        "        nn.ReLU(),\n",
        "        nn.Linear(64, 32),\n",
        "        nn.ReLU(),\n",
        "        nn.Linear(32, outputSize)\n",
        "    )\n",
        "\n",
        "  def loss(self, y_hat, y):\n",
        "        fn = nn.MSELoss()\n",
        "        return fn(y_hat, y)\n",
        "\n",
        "  def forward(self, X):\n",
        "        return self.layers(X)\n",
        "\n",
        "\n",
        "\n",
        "  @staticmethod\n",
        "  def get_net(inputSize, outputSize):\n",
        "        net = MLP(inputSize, outputSize)\n",
        "        return net\n",
        "\n",
        "n_inputs = train_features.shape[1]\n",
        "n_outputs = 1\n",
        "\n",
        "# Create an instance of the MLP model using get_net()\n",
        "net = MLP.get_net(n_inputs, n_outputs)\n"
      ],
      "metadata": {
        "id": "eck-XMRcRkHL"
      },
      "execution_count": null,
      "outputs": []
    },
    {
      "cell_type": "markdown",
      "source": [
        "\n",
        "**Step 13:**\n",
        "Calculate mean squared Error\n",
        "\n",
        "\n",
        "- calculates the Root Mean Squared Error (rMSE) between the predictions made by a neural network (net) and the true labels (labels)."
      ],
      "metadata": {
        "id": "HfQsX3z3TbRR"
      }
    },
    {
      "cell_type": "code",
      "source": [
        "import torch\n",
        "import torch.nn.functional as F\n",
        "\n",
        "def rmse(net, features, labels):\n",
        "    preds = net(features)  # Make predictions using the neural network\n",
        "    clipped_preds = torch.clamp(preds, min=1.0)  # Clamp predictions to be at least 1.0\n",
        "    log_preds = torch.log(clipped_preds)  # Apply logarithm to the clipped predictions\n",
        "    log_labels = torch.log(labels)  # Apply logarithm to the true labels\n",
        "    mse = F.mse_loss(log_preds, log_labels)  # Calculate the mean squared error (MSE)\n",
        "    rmse = torch.sqrt(mse)  # Calculate the root mean squared error (RMSE)\n",
        "    return rmse.item()  # Return the RMSE as a scalar value"
      ],
      "metadata": {
        "id": "l1DIMlSPRlmT"
      },
      "execution_count": null,
      "outputs": []
    },
    {
      "cell_type": "markdown",
      "source": [
        "**Step 14:**\n",
        "creates a DataLoader from the given data arrays, with the option to specify the batch size and whether it's for training or not.\n",
        "\n",
        "-  load_data function creates a DataLoader object that load the data in batches during model training. It takes input data arrays, creates a TensorDataset from them, and put it with a DataLoader to provide functionality such as batching and shuffling.\n",
        "\n",
        "- TensorDataset(*data_arrays): takes a collection of data arrays as input\n",
        "\n",
        "- *data_arrays syntax is to unpack the input data arrays. Then it creates a TensorDataset object by combining the input data arrays. TensorDataset is a PyTorch class create a dataset from a collection of tensors"
      ],
      "metadata": {
        "id": "E9heyBiNT28T"
      }
    },
    {
      "cell_type": "code",
      "source": [
        "import torch\n",
        "from torch.utils.data import TensorDataset, DataLoader\n",
        "\n",
        "def load_data(data_arrays, batch_size, is_train=True):\n",
        "    dataset = TensorDataset(*data_arrays)  # Create a TensorDataset from the data arrays\n",
        "    dataloader = DataLoader(dataset, batch_size=batch_size, shuffle=is_train)  # Create a DataLoader from the dataset\n",
        "    return dataloader"
      ],
      "metadata": {
        "id": "UNcMbG6VRnIS"
      },
      "execution_count": null,
      "outputs": []
    },
    {
      "cell_type": "markdown",
      "source": [
        "**Step 15:**\n",
        "Train trains a neural network model using the specified training and test data\n",
        "\n",
        "**train function** performs the training loop for the neural network model, updating the parameters based on the computed gradients, and tracking the training and test losses for each epoch.\n",
        "\n",
        "function takes several input arguments\n",
        "\n",
        "- net (the neural network model)\n",
        "- train_features (the input features for training)\n",
        "- train_labels (the corresponding labels for training)\n",
        "- test_features (the input features for testing/validation)\n",
        "- test_labels (the corresponding labels for testing/validation)\n",
        "- num_epochs (the number of epochs to train the model)\n",
        "- learning_rate (the learning rate for the optimizer)\n",
        "- weight_decay (the weight decay parameter for regularization)\n",
        "- batch_size (the batch size for training)\n",
        "\n",
        "**train_ls and test_ls** store the training and test losses like an array\n",
        "\n",
        "**load_data function** is called to create a data loader train_iter using the train_features and train_labels, with the specified batch_size. The train_iter will provide batches of data for training in each iteration.\n",
        "\n",
        "The gradients are reset to zero using optimizer.zero_grad() for each batch\n",
        "\n",
        "**Forward pass** is performed by passing the batch of inputs (X) through the neural network model (net(X)), and the corresponding predictions are obtained\n",
        "\n",
        "**Loss function** (loss) is called with the predicted outputs and the true labels (net(X), y) to calculate the loss value (l)\n",
        "\n",
        "**Optimizer** takes a step (optimizer.step()) to update the model parameters using the computed gradients."
      ],
      "metadata": {
        "id": "hhof3HHBVU5k"
      }
    },
    {
      "cell_type": "code",
      "source": [
        "def train(net, train_features, train_labels, test_features, test_labels,\n",
        "          num_epochs, learning_rate, weight_decay, batch_size):\n",
        "\n",
        "    train_ls, test_ls = [], []\n",
        "\n",
        "    train_iter = load_data((train_features, train_labels), batch_size)\n",
        "    loss_fn = nn.MSELoss()\n",
        "    optimizer = torch.optim.Adam(net.parameters(),\n",
        "                                 lr = learning_rate,\n",
        "                                 weight_decay = weight_decay)\n",
        "\n",
        "    for epoch in range(num_epochs):\n",
        "        for X, y in train_iter:\n",
        "            optimizer.zero_grad()\n",
        "            l = loss_fn(net(X), y)\n",
        "            l.backward()\n",
        "            optimizer.step()\n",
        "\n",
        "        train_l = rmse(net, train_features, train_labels)     #training loss after the current epoch\n",
        "        train_ls.append(train_l)\n",
        "        #print(f'Epoch: ', epoch, ' Training Loss: ', train_l)\n",
        "        if test_labels is not None:\n",
        "            test_l = rmse(net, test_features, test_labels)    #test loss after the current epoch\n",
        "            test_ls.append(test_l)\n",
        "\n",
        "    return train_ls, test_ls\n",
        "\n",
        "\n"
      ],
      "metadata": {
        "id": "bsFujB3fRp_a"
      },
      "execution_count": null,
      "outputs": []
    },
    {
      "cell_type": "markdown",
      "source": [
        "**Step 16:**\n",
        "implements k-fold cross-validation by splitting the given dataset (X, y) into training and validation sets based on the specified fold index (i) out of k folds.\n"
      ],
      "metadata": {
        "id": "4mONypRfBD7P"
      }
    },
    {
      "cell_type": "code",
      "execution_count": null,
      "metadata": {
        "ExecuteTime": {
          "end_time": "2019-02-12T19:53:02.558010Z",
          "start_time": "2019-02-12T19:53:02.507447Z"
        },
        "id": "-DMHupgSvhPi"
      },
      "outputs": [],
      "source": [
        "def get_k_fold_data(k, i, X, y):\n",
        "    assert k > 1\n",
        "    fold_size = X.shape[0] // k\n",
        "    X_train, y_train = None, None\n",
        "    for j in range(k):\n",
        "        idx = slice(j*fold_size, (j+1)*fold_size)\n",
        "        X_part, y_part = X[idx, :], y[idx]\n",
        "        if j == i:\n",
        "            X_valid, y_valid = X_part, y_part\n",
        "        elif X_train is None:\n",
        "            X_train, y_train = X_part, y_part\n",
        "        else:\n",
        "            X_train = torch.cat([X_train, X_part], 0)\n",
        "            y_train = torch.cat([y_train, y_part], 0)\n",
        "    return X_train, y_train, X_valid, y_valid"
      ]
    },
    {
      "cell_type": "markdown",
      "metadata": {
        "id": "5Ix6umPTvhPi"
      },
      "source": [
        "The training and verification error averages are returned when we train $k$ times in the k-fold cross-validation."
      ]
    },
    {
      "cell_type": "code",
      "execution_count": null,
      "metadata": {
        "ExecuteTime": {
          "end_time": "2019-02-12T19:53:02.601248Z",
          "start_time": "2019-02-12T19:53:02.576663Z"
        },
        "attributes": {
          "classes": [],
          "id": "",
          "n": "15"
        },
        "id": "0JTOCGL0vhPi"
      },
      "outputs": [],
      "source": [
        "def k_fold(k, X_train, y_train, num_epochs, learning_rate, weight_decay, batch_size):\n",
        "    train_l_sum, valid_l_sum = 0, 0\n",
        "    for i in range(k):\n",
        "        data = get_k_fold_data(k, i, X_train, y_train)\n",
        "        #net = MLP.get_net()\n",
        "        net = MLP.get_net(inputSize=X_train.shape[1], outputSize=1)  # Pass the inputSize and outputSize arguments\n",
        "\n",
        "        train_ls, valid_ls = train(net, *data, num_epochs, learning_rate, weight_decay, batch_size)\n",
        "        train_l_sum += train_ls[-1]\n",
        "        valid_l_sum += valid_ls[-1]\n",
        "        if i == 0:\n",
        "            plt.plot(list(range(1, num_epochs + 1)), train_ls)\n",
        "            plt.plot(list(range(1, num_epochs + 1)), valid_ls)\n",
        "            plt.xlabel('epoch')\n",
        "            plt.ylabel('rmse')\n",
        "            plt.legend(['train', 'valid'])\n",
        "            plt.yscale('log')\n",
        "            plt.show()\n",
        "        #print(f'Fold {i+1}，training loss {float(train_ls[-1]):f}, validation loss {float(valid_ls[-1]):f}')\n",
        "        print('fold %d, train rmse: %f, valid rmse: %f' % (\n",
        "            i, train_ls[-1], valid_ls[-1]))\n",
        "\n",
        "\n",
        "    return train_l_sum / k, valid_l_sum / k"
      ]
    },
    {
      "cell_type": "markdown",
      "metadata": {
        "id": "KDsWEFXDvhPi"
      },
      "source": [
        "Finding a good choice of the hyperparameters can take quite some time, depending on how many things one wants to optimize over. Within reason the $k$-fold crossvalidation approach is resilient against multiple testing. However, if we were to try out an unreasonably large number of options it might fail since we might just get lucky on the validation split with a particular set of hyperparameters."
      ]
    },
    {
      "cell_type": "code",
      "execution_count": null,
      "metadata": {
        "ExecuteTime": {
          "end_time": "2019-02-12T19:53:02.603202Z",
          "start_time": "2019-02-12T19:52:28.070Z"
        },
        "attributes": {
          "classes": [],
          "id": "",
          "n": "16"
        },
        "id": "IcUVNvK4vhPj",
        "colab": {
          "base_uri": "https://localhost:8080/",
          "height": 553
        },
        "outputId": "13ee7d05-4737-4bd9-b0f0-24b6ccea4aa5"
      },
      "outputs": [
        {
          "output_type": "display_data",
          "data": {
            "text/plain": [
              "<Figure size 640x480 with 1 Axes>"
            ],
            "image/png": "[encoded data removed]"
          },
          "metadata": {}
        },
        {
          "output_type": "stream",
          "name": "stdout",
          "text": [
            "fold 0, train rmse: 0.130963, valid rmse: 0.146464\n",
            "fold 1, train rmse: 0.128325, valid rmse: 0.147151\n",
            "fold 2, train rmse: 0.126977, valid rmse: 0.143823\n",
            "fold 3, train rmse: 0.132329, valid rmse: 0.136413\n",
            "fold 4, train rmse: 0.123861, valid rmse: 0.167534\n",
            "5-fold validation: avg train rmse: 0.128491, avg valid rmse: 0.148277\n"
          ]
        }
      ],
      "source": [
        "k, num_epochs, lr, weight_decay, batch_size = 5, 200, 0.001, 0.01, 128\n",
        "train_l, valid_l = k_fold(k, train_features, train_labels, num_epochs, lr,\n",
        "                          weight_decay, batch_size)\n",
        "print('%d-fold validation: avg train rmse: %f, avg valid rmse: %f'\n",
        "      % (k, train_l, valid_l))\n"
      ]
    },
    {
      "cell_type": "markdown",
      "metadata": {
        "id": "IJ0OGSrGvhPj"
      },
      "source": [
        "You will notice that sometimes the number of training errors for a set of hyper-parameters can be very low, while the number of errors for the $k$-fold cross validation may be higher. This is most likely a consequence of overfitting. Therefore, when we reduce the amount of training errors, we need to check whether the amount of errors in the k-fold cross-validation have also been reduced accordingly."
      ]
    },
    {
      "cell_type": "code",
      "source": [
        "from google.colab import drive\n",
        "drive.mount('/content/drive')\n",
        "\n",
        "\n",
        "def save_to_csv(data, folder_path, file_name):\n",
        "    csv_file_path = folder_path + '/' + file_name\n",
        "    data.to_csv(csv_file_path, index=False)\n",
        "\n",
        "net = MLP.get_net(train_features.shape[1], 1)\n",
        "train_ls, _ = train(net, train_features, train_labels, None, None,\n",
        "                        num_epochs, lr, weight_decay, batch_size)\n",
        "\n",
        "preds = net(test_features).detach().numpy()\n",
        "test_data['SalePrice'] = pd.Series(preds.reshape(1, -1)[0])\n",
        "\n",
        "submission = pd.concat([test_data['Id'], test_data['SalePrice']], axis=1)\n",
        "\n",
        "folder_path = '/content/drive/My Drive/ICT303/Assignment1.6'\n",
        "file_name = 'Assignment1.csv'\n",
        "\n",
        "save_to_csv(submission, folder_path, file_name)\n"
      ],
      "metadata": {
        "colab": {
          "base_uri": "https://localhost:8080/"
        },
        "id": "NfyzsioBGYIl",
        "outputId": "ef986acc-a8b5-40a8-fb4b-d49d2780cd54"
      },
      "execution_count": null,
      "outputs": [
        {
          "output_type": "stream",
          "name": "stdout",
          "text": [
            "Drive already mounted at /content/drive; to attempt to forcibly remount, call drive.mount(\"/content/drive\", force_remount=True).\n"
          ]
        }
      ]
    },
    {
      "cell_type": "markdown",
      "source": [
        "\n",
        "##  **4. Predict and Submit**\n",
        "\n",
        "Once you have figured out what a good choice of hyperparameters should be, you might as well use all the data to train on it (rather than just $1-1/k$ of the data that is used in the crossvalidation slices). The model that we obtain in this way can then be applied to the test set. Saving the estimates in a CSV file will simplify uploading the results to Kaggle.\n",
        "\n",
        "So your task here is that once you have decided what are the best hyperparameters, train on the entire Kaggle training set, test it on the Kaggle test set, save the result as a .csv file and submit it to Kaggle. The steps are quite simple:\n",
        "* Log in to the Kaggle website and visit the House Price Prediction Competition page.\n",
        "* Click the “Submit Predictions” or “Late Submission” button on the right.\n",
        "* Click the “Upload Submission File” button in the dashed box at the bottom of the page and select the prediction file you wish to upload.\n",
        "* Click the “Make Submission” button at the bottom of the page to view your results.\n",
        "\n",
        "You need to include a screenshot of your results in the assignment submission."
      ],
      "metadata": {
        "id": "PZekvL9aNTkN"
      }
    },
    {
      "cell_type": "markdown",
      "source": [
        "\n",
        "\n",
        "---\n",
        "\n"
      ],
      "metadata": {
        "id": "AXY_7ea3xe7R"
      }
    }
  ],
  "metadata": {
    "kernelspec": {
      "display_name": "Python 3",
      "name": "python3"
    },
    "language_info": {
      "codemirror_mode": {
        "name": "ipython",
        "version": 3
      },
      "file_extension": ".py",
      "mimetype": "text/x-python",
      "name": "python",
      "nbconvert_exporter": "python",
      "pygments_lexer": "ipython3",
      "version": "3.7.1"
    },
    "colab": {
      "provenance": [],
      "gpuType": "T4"
    },
    "accelerator": "GPU"
  },
  "nbformat": 4,
  "nbformat_minor": 0
}